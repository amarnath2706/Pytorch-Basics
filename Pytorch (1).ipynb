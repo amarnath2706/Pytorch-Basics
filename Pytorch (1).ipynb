{
 "cells": [
  {
   "cell_type": "code",
   "execution_count": 1,
   "metadata": {},
   "outputs": [],
   "source": [
    "from __future__ import print_function\n",
    "import torch"
   ]
  },
  {
   "cell_type": "code",
   "execution_count": 2,
   "metadata": {},
   "outputs": [
    {
     "name": "stdout",
     "output_type": "stream",
     "text": [
      "1.9.0\n"
     ]
    }
   ],
   "source": [
    "import torch \n",
    "print(torch.__version__)"
   ]
  },
  {
   "cell_type": "code",
   "execution_count": 3,
   "metadata": {},
   "outputs": [
    {
     "name": "stdout",
     "output_type": "stream",
     "text": [
      "tensor([[4.1328e-39, 4.4082e-39, 4.4082e-39],\n",
      "        [4.2246e-39, 1.0286e-38, 1.0653e-38],\n",
      "        [1.0194e-38, 8.4490e-39, 1.0469e-38],\n",
      "        [9.3674e-39, 9.9184e-39, 8.7245e-39],\n",
      "        [9.2755e-39, 8.9082e-39, 9.9184e-39],\n",
      "        [8.4490e-39, 9.6429e-39, 1.0653e-38]])\n"
     ]
    }
   ],
   "source": [
    "#6X3 Matrix\n",
    "a = torch.empty(6,3)\n",
    "print(a)"
   ]
  },
  {
   "cell_type": "code",
   "execution_count": 3,
   "metadata": {},
   "outputs": [
    {
     "name": "stdout",
     "output_type": "stream",
     "text": [
      "tensor([[0.4238, 0.6089, 0.4973],\n",
      "        [0.1853, 0.3175, 0.3049],\n",
      "        [0.0194, 0.2247, 0.3470],\n",
      "        [0.4281, 0.2316, 0.6358]])\n"
     ]
    }
   ],
   "source": [
    "#Randomly initialized matrix\n",
    "a = torch.rand(4,3)\n",
    "print(a)"
   ]
  },
  {
   "cell_type": "code",
   "execution_count": 4,
   "metadata": {},
   "outputs": [
    {
     "name": "stdout",
     "output_type": "stream",
     "text": [
      "tensor([[0, 0, 0],\n",
      "        [0, 0, 0],\n",
      "        [0, 0, 0],\n",
      "        [0, 0, 0]])\n"
     ]
    }
   ],
   "source": [
    "#Zero matrix with long dtype\n",
    "a = torch.zeros(4,3, dtype=torch.long)\n",
    "print(a)"
   ]
  },
  {
   "cell_type": "code",
   "execution_count": 6,
   "metadata": {},
   "outputs": [
    {
     "data": {
      "text/plain": [
       "torch.Tensor"
      ]
     },
     "execution_count": 6,
     "metadata": {},
     "output_type": "execute_result"
    }
   ],
   "source": [
    "#Tensor data\n",
    "a = torch.tensor([7.8, 5])\n",
    "type(a)"
   ]
  },
  {
   "cell_type": "code",
   "execution_count": 7,
   "metadata": {},
   "outputs": [
    {
     "name": "stdout",
     "output_type": "stream",
     "text": [
      "tensor([[1., 1., 1., 1., 1.],\n",
      "        [1., 1., 1., 1., 1.],\n",
      "        [1., 1., 1., 1., 1.],\n",
      "        [1., 1., 1., 1., 1.],\n",
      "        [1., 1., 1., 1., 1.],\n",
      "        [1., 1., 1., 1., 1.]], dtype=torch.float64)\n",
      "tensor([[-0.1203, -0.1070,  1.0064,  1.0053,  0.9007],\n",
      "        [-0.1570,  0.0265, -1.0442, -0.1841,  1.7871],\n",
      "        [-1.1524, -0.8250, -1.5153, -0.5464, -1.0603],\n",
      "        [ 0.2441,  0.0787,  0.8927,  0.4378,  0.9454],\n",
      "        [ 1.7644, -0.9779, -0.5828, -2.0856,  1.3019],\n",
      "        [-1.6024, -1.3538, -1.1431,  0.4297, -0.3665]])\n"
     ]
    }
   ],
   "source": [
    "a = a.new_ones(6,5, dtype=torch.double)    # new methods take in sizes\n",
    "print(a)\n",
    "\n",
    "a = torch.randn_like(a, dtype=torch.float)  # override dtype\n",
    "print(a)   "
   ]
  },
  {
   "cell_type": "code",
   "execution_count": 8,
   "metadata": {},
   "outputs": [
    {
     "name": "stdout",
     "output_type": "stream",
     "text": [
      "torch.Size([6, 5])\n"
     ]
    }
   ],
   "source": [
    "print(a.size())"
   ]
  },
  {
   "cell_type": "code",
   "execution_count": 9,
   "metadata": {},
   "outputs": [
    {
     "name": "stdout",
     "output_type": "stream",
     "text": [
      "tensor([[ 0.8348,  0.1198,  1.0796,  1.4731,  1.4256],\n",
      "        [-0.1516,  0.8041, -1.0045, -0.0782,  2.4558],\n",
      "        [-0.5186, -0.6181, -0.7963,  0.3615, -0.3584],\n",
      "        [ 0.2938,  0.0994,  1.7530,  1.3044,  1.6490],\n",
      "        [ 2.5029, -0.7582,  0.2507, -1.3445,  1.9455],\n",
      "        [-1.4786, -0.5259, -0.2479,  0.4399,  0.2464]])\n"
     ]
    }
   ],
   "source": [
    "b = torch.rand(6,5)\n",
    "print(a + b)"
   ]
  },
  {
   "cell_type": "code",
   "execution_count": 10,
   "metadata": {},
   "outputs": [
    {
     "name": "stdout",
     "output_type": "stream",
     "text": [
      "tensor([[ 0.8348,  0.1198,  1.0796,  1.4731,  1.4256],\n",
      "        [-0.1516,  0.8041, -1.0045, -0.0782,  2.4558],\n",
      "        [-0.5186, -0.6181, -0.7963,  0.3615, -0.3584],\n",
      "        [ 0.2938,  0.0994,  1.7530,  1.3044,  1.6490],\n",
      "        [ 2.5029, -0.7582,  0.2507, -1.3445,  1.9455],\n",
      "        [-1.4786, -0.5259, -0.2479,  0.4399,  0.2464]])\n"
     ]
    }
   ],
   "source": [
    "print(torch.add(a,b))"
   ]
  },
  {
   "cell_type": "code",
   "execution_count": 11,
   "metadata": {},
   "outputs": [
    {
     "name": "stdout",
     "output_type": "stream",
     "text": [
      "tensor([[ 0.8348,  0.1198,  1.0796,  1.4731,  1.4256],\n",
      "        [-0.1516,  0.8041, -1.0045, -0.0782,  2.4558],\n",
      "        [-0.5186, -0.6181, -0.7963,  0.3615, -0.3584],\n",
      "        [ 0.2938,  0.0994,  1.7530,  1.3044,  1.6490],\n",
      "        [ 2.5029, -0.7582,  0.2507, -1.3445,  1.9455],\n",
      "        [-1.4786, -0.5259, -0.2479,  0.4399,  0.2464]])\n"
     ]
    }
   ],
   "source": [
    "result = torch.empty(6, 5)\n",
    "torch.add(a, b, out=result)\n",
    "print(result)"
   ]
  },
  {
   "cell_type": "code",
   "execution_count": 12,
   "metadata": {},
   "outputs": [
    {
     "name": "stdout",
     "output_type": "stream",
     "text": [
      "tensor([[ 0.8348,  0.1198,  1.0796,  1.4731,  1.4256],\n",
      "        [-0.1516,  0.8041, -1.0045, -0.0782,  2.4558],\n",
      "        [-0.5186, -0.6181, -0.7963,  0.3615, -0.3584],\n",
      "        [ 0.2938,  0.0994,  1.7530,  1.3044,  1.6490],\n",
      "        [ 2.5029, -0.7582,  0.2507, -1.3445,  1.9455],\n",
      "        [-1.4786, -0.5259, -0.2479,  0.4399,  0.2464]])\n"
     ]
    }
   ],
   "source": [
    "# adds a to b\n",
    "b.add_(a)\n",
    "print(b)"
   ]
  },
  {
   "cell_type": "code",
   "execution_count": 13,
   "metadata": {},
   "outputs": [
    {
     "name": "stdout",
     "output_type": "stream",
     "text": [
      "tensor([ 1.0064, -1.0442, -1.5153,  0.8927, -0.5828, -1.1431])\n"
     ]
    }
   ],
   "source": [
    "print(a[:,2])"
   ]
  },
  {
   "cell_type": "code",
   "execution_count": 14,
   "metadata": {},
   "outputs": [
    {
     "name": "stdout",
     "output_type": "stream",
     "text": [
      "torch.Size([3, 3]) torch.Size([9]) torch.Size([1, 9])\n"
     ]
    }
   ],
   "source": [
    "#Reshape - using tensor.view\n",
    "a = torch.randn(3, 3)\n",
    "b = a.view(9)\n",
    "c = a.view(-1, 9)  # the size -1 is inferred from other dimensions\n",
    "print(a.size(), b.size(), c.size())"
   ]
  },
  {
   "cell_type": "code",
   "execution_count": 15,
   "metadata": {},
   "outputs": [
    {
     "name": "stdout",
     "output_type": "stream",
     "text": [
      "tensor([-0.5432])\n",
      "-0.5432416796684265\n"
     ]
    }
   ],
   "source": [
    "#item()- get the value of python number\n",
    "a = torch.randn(1)\n",
    "print(a)\n",
    "print(a.item())"
   ]
  },
  {
   "cell_type": "code",
   "execution_count": 16,
   "metadata": {},
   "outputs": [
    {
     "name": "stdout",
     "output_type": "stream",
     "text": [
      "tensor([1., 1., 1., 1.])\n"
     ]
    }
   ],
   "source": [
    "#Torch tensor to Numpy\n",
    "x = torch.ones(4)\n",
    "print(x)"
   ]
  },
  {
   "cell_type": "code",
   "execution_count": 17,
   "metadata": {},
   "outputs": [
    {
     "name": "stdout",
     "output_type": "stream",
     "text": [
      "[1. 1. 1. 1.]\n"
     ]
    }
   ],
   "source": [
    "y = x.numpy()\n",
    "print(y)"
   ]
  },
  {
   "cell_type": "code",
   "execution_count": 18,
   "metadata": {},
   "outputs": [
    {
     "name": "stdout",
     "output_type": "stream",
     "text": [
      "[2. 2. 2. 2.]\n",
      "tensor([2., 2., 2., 2.], dtype=torch.float64)\n"
     ]
    }
   ],
   "source": [
    "#Numpy to torch\n",
    "import numpy as np\n",
    "f = np.ones(4)\n",
    "g = torch.from_numpy(f)\n",
    "np.add(f, 1, out=f)\n",
    "print(f)\n",
    "print(g)"
   ]
  },
  {
   "cell_type": "code",
   "execution_count": 19,
   "metadata": {},
   "outputs": [
    {
     "name": "stdout",
     "output_type": "stream",
     "text": [
      "tensor([2., 2., 2., 2.], device='cuda:0')\n",
      "tensor([2., 2., 2., 2.], dtype=torch.float64)\n"
     ]
    }
   ],
   "source": [
    "# let us run this cell only if CUDA is available\n",
    "# We will use ``torch.device`` objects to move tensors in and out of GPU\n",
    "if torch.cuda.is_available():\n",
    "    device = torch.device(\"cuda\")          # a CUDA device object\n",
    "    y = torch.ones_like(x, device=device)  # directly create a tensor on GPU\n",
    "    x = x.to(device)                       # or just use strings ``.to(\"cuda\")``\n",
    "    z = x + y\n",
    "    print(z)\n",
    "    print(z.to(\"cpu\", torch.double))       # ``.to`` can also change dtype together!"
   ]
  },
  {
   "cell_type": "code",
   "execution_count": null,
   "metadata": {},
   "outputs": [],
   "source": []
  }
 ],
 "metadata": {
  "kernelspec": {
   "display_name": "Python 3",
   "language": "python",
   "name": "python3"
  },
  "language_info": {
   "codemirror_mode": {
    "name": "ipython",
    "version": 3
   },
   "file_extension": ".py",
   "mimetype": "text/x-python",
   "name": "python",
   "nbconvert_exporter": "python",
   "pygments_lexer": "ipython3",
   "version": "3.6.9"
  }
 },
 "nbformat": 4,
 "nbformat_minor": 4
}
